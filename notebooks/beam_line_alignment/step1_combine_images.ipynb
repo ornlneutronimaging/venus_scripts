{
 "cells": [
  {
   "cell_type": "markdown",
   "id": "f7770006",
   "metadata": {},
   "source": [
    "# workflow "
   ]
  },
  {
   "cell_type": "markdown",
   "id": "10c53b1d",
   "metadata": {},
   "source": [
    "Using the [combine_all_images_selected](https://neutronimaging.ornl.gov/tutorials/imaging-notebooks/) notebook, first step is to combine the images of a same folder using a *median* algorithm. This removes the gammas and improve the statistics of the images (as shown here)"
   ]
  },
  {
   "cell_type": "markdown",
   "id": "75598c84",
   "metadata": {},
   "source": [
    "<img src='static/0deg_30s_frames_OB_raw.png' />\n",
    "<img src='static/0deg_30s_frames_OB_median.png' />"
   ]
  },
  {
   "cell_type": "code",
   "execution_count": null,
   "id": "4b77b20a",
   "metadata": {},
   "outputs": [],
   "source": []
  }
 ],
 "metadata": {
  "kernelspec": {
   "display_name": "Python 3 (ipykernel)",
   "language": "python",
   "name": "python3"
  },
  "language_info": {
   "codemirror_mode": {
    "name": "ipython",
    "version": 3
   },
   "file_extension": ".py",
   "mimetype": "text/x-python",
   "name": "python",
   "nbconvert_exporter": "python",
   "pygments_lexer": "ipython3",
   "version": "3.8.13"
  }
 },
 "nbformat": 4,
 "nbformat_minor": 5
}
