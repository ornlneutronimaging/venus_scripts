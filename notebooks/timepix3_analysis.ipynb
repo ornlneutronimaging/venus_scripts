{
 "cells": [
  {
   "cell_type": "code",
   "execution_count": 51,
   "metadata": {},
   "outputs": [],
   "source": [
    "import os\n",
    "import numpy as np\n",
    "import h5py\n",
    "from dateutil.parser import parse\n",
    "import pandas as pd\n",
    "\n",
    "import plotly.express as px\n",
    "import plotly.graph_objects as go\n",
    "from plotly.graph_objs.layout import YAxis,XAxis,Margin\n",
    "from plotly.subplots import make_subplots"
   ]
  },
  {
   "cell_type": "code",
   "execution_count": 73,
   "metadata": {},
   "outputs": [],
   "source": [
    "class MasterKeys:\n",
    "    data_type = 'data_type'\n",
    "    l_over_d = 'l_over_d'\n",
    "    data_path = 'data_path'\n",
    "    nexus_path = 'nexus_path'\n",
    "    start_time = 'start_time'\n",
    "    start_time_friendly_display = 'start_time_friendly_display'\n",
    "    start_time_in_seconds = 'start_time_in_seconds'\n",
    "\n",
    "class DataType:\n",
    "    ob = 'ob'\n",
    "    dc = 'dc'\n",
    "    ni = 'Ni powder'\n",
    "\n",
    "class PV:\n",
    "    bm_averaged_count_rate = \"BL10:Det:BM1:Histo:Daq:Rate\"    \n",
    "    averaged_count_rate_adted = \"BL10:Det:T1:CountRate_RBV\"\n",
    "    averaged_count_rate_serval = \"BL10:CS:tpx3:cam1:PelEvtRate_RBV\"\n",
    "    # gdc_serval_chip0 = \"BL10:Det2:tpx3:LastGDCChipZero\"\n",
    "    # gdc_serval_chip1 = \"BL10:Det2:tpx3:LastGDCChipOne\"\n",
    "    # gdc_serval_chip2 = \"BL10:Det2:tpx3:LastGDCChipTwo\"  \n",
    "    # gdc_serval_chip3 = \"BL10:Det2:tpx3:LastGDCChipThree\" \n",
    "\n",
    "class PVnames:\n",
    "    title = \"Average Count Rates\"\n",
    "    bm_averaged_count_rate = \"Beam Monitor\"    \n",
    "    averaged_count_rate_adted = \"ADtED\"\n",
    "    averaged_count_rate_serval = \"Serval\"\n",
    "\n",
    "class PVtags:\n",
    "    mean = \"mean\"\n",
    "    min = \"min\"\n",
    "    max = \"max\"\n",
    "    \n",
    "IPTS = \"IPTS-34969\"\n",
    "NEXUS_PATH = os.path.join(\"/SNS\", \"VENUS\", IPTS, 'nexus')"
   ]
  },
  {
   "cell_type": "code",
   "execution_count": 62,
   "metadata": {},
   "outputs": [],
   "source": [
    "assert os.path.exists(NEXUS_PATH)"
   ]
  },
  {
   "cell_type": "markdown",
   "metadata": {},
   "source": [
    "# Retrieve PV values"
   ]
  },
  {
   "cell_type": "code",
   "execution_count": 63,
   "metadata": {},
   "outputs": [],
   "source": [
    "def fill_master_dict(from_run_number, to_run_number, data_type, l_over_d, data_path):\n",
    "    master_dict = {}\n",
    "    for run_number in range(from_run_number, to_run_number + 1):\n",
    "        master_dict[run_number] = {\n",
    "            MasterKeys.data_type: data_type,\n",
    "            MasterKeys.l_over_d: l_over_d,\n",
    "            MasterKeys.data_path: data_path,\n",
    "            MasterKeys.nexus_path: os.path.join(NEXUS_PATH, f\"VENUS_{run_number}.nxs.h5\"),\n",
    "            MasterKeys.start_time: None,\n",
    "            MasterKeys.start_time_friendly_display: None,\n",
    "            MasterKeys.start_time_in_seconds: None,\n",
    "            PV.bm_averaged_count_rate: {PVtags.mean: None,\n",
    "                                        PVtags.min: None,\n",
    "                                        PVtags.max: None},\n",
    "            PV.averaged_count_rate_adted: {PVtags.mean: None,\n",
    "                                        PVtags.min: None,\n",
    "                                        PVtags.max: None},\n",
    "            PV.averaged_count_rate_serval: {PVtags.mean: None,\n",
    "                                        PVtags.min: None,\n",
    "                                        PVtags.max: None},\n",
    "            # PV.gdc_serval_chip0: None,\n",
    "            # PV.gdc_serval_chip1: None,\n",
    "            # PV.gdc_serval_chip2: None,\n",
    "            # PV.gdc_serval_chip3: None,\n",
    "        }\n",
    "    return master_dict"
   ]
  },
  {
   "cell_type": "code",
   "execution_count": 64,
   "metadata": {},
   "outputs": [],
   "source": [
    "def get_start_time_friendly_display(start_time):\n",
    "    _time = parse(start_time)\n",
    "    month = _time.month\n",
    "    day = _time.day\n",
    "    hour = _time.hour\n",
    "    minute = _time.minute\n",
    "    second = _time.second\n",
    "    return f\"{month}/{day} {hour}:{minute}:{second}\"\n",
    "\n",
    "def convert_to_seconds(start_time):\n",
    "    _time = parse(start_time)\n",
    "    return int(_time.timestamp())\n",
    "    \n",
    "\n"
   ]
  },
  {
   "cell_type": "code",
   "execution_count": 65,
   "metadata": {},
   "outputs": [],
   "source": [
    "def retrieve_metadata(master_dict):\n",
    "\n",
    "    list_pvs = [\n",
    "        PV.bm_averaged_count_rate,\n",
    "        PV.averaged_count_rate_adted,\n",
    "        PV.averaged_count_rate_serval,\n",
    "        # PV.gdc_serval_chip0,\n",
    "        # PV.gdc_serval_chip1,\n",
    "        # PV.gdc_serval_chip2,\n",
    "        # PV.gdc_serval_chip3\n",
    "    ]\n",
    "\n",
    "    for run_number, run_dict in master_dict.items():\n",
    "        nexus_path = run_dict[MasterKeys.nexus_path]\n",
    "        if not os.path.exists(nexus_path):\n",
    "            print(f\"Missing {nexus_path}\")\n",
    "            continue\n",
    "        try:\n",
    "            with h5py.File(nexus_path, 'r') as hdf5_data:\n",
    "                for pv in list_pvs:\n",
    "                    master_dict[run_number][pv] = {PVtags.mean: np.mean(hdf5_data['entry']['DASlogs'][pv]['value'][:]),\n",
    "                                                   PVtags.min: np.min(hdf5_data['entry']['DASlogs'][pv]['value'][:]),\n",
    "                                                   PVtags.max: np.max(hdf5_data['entry']['DASlogs'][pv]['value'][:]),\n",
    "                                                   }\n",
    "                    master_dict[run_number][MasterKeys.start_time] = hdf5_data['entry']['start_time'][0].decode(\"utf8\")\n",
    "                    master_dict[run_number][MasterKeys.start_time_friendly_display] = get_start_time_friendly_display(hdf5_data['entry']['start_time'][0].decode(\"utf8\"))\n",
    "                    master_dict[run_number][MasterKeys.start_time_in_seconds] = convert_to_seconds(hdf5_data['entry']['start_time'][0].decode(\"utf8\"))\n",
    "\n",
    "        except:\n",
    "            pass\n",
    "\n"
   ]
  },
  {
   "cell_type": "markdown",
   "metadata": {},
   "source": [
    "Init dictionary according to excel spreadsheet"
   ]
  },
  {
   "cell_type": "code",
   "execution_count": 66,
   "metadata": {},
   "outputs": [],
   "source": [
    "master_dict = {}\n",
    "\n",
    "# first row\n",
    "master_dict_first_row = fill_master_dict(6690, 6712, DataType.ob, 400, \"/IPTS-34969/images/tpx3/raw/radiographs/February20_2025_Ni_5C_MCP_TPX3_0_7AngsMin/\")\n",
    "master_dict.update(master_dict_first_row)\n",
    "\n",
    "# second row\n",
    "master_dict_second_row = fill_master_dict(6713, 6715, DataType.dc, None, \"/IPTS-34969/images/tpx3/raw/df/February21_2025_OB_5C_MCP_TPX3_0_7AngsMin/\")\n",
    "master_dict.update(master_dict_second_row)\n",
    "\n",
    "# third row\n",
    "master_dict_third_row = fill_master_dict(6718, 6729, DataType.ni, 400, \"/IPTS-34969/images/tpx3/raw/df/February21_2025_Ni_powder_5_0C_MCP_TPX3_0_7AngsMin/\")\n",
    "master_dict.update(master_dict_third_row)\n",
    "\n",
    "# fourth row\n",
    "master_dict_fourth_row = fill_master_dict(6730, 6743, DataType.ni, 800, \"/IPTS-34969/images/tpx3/raw/df/February22_2025_Ni_powder_5_0C_MCP_TPX3_0_7AngsMin/\")\n",
    "master_dict.update(master_dict_fourth_row)\n",
    "\n",
    "# fifth row\n",
    "master_dict_fifth_row = fill_master_dict(6744, 6749, DataType.ni, 800, \"/IPTS-34969/images/tpx3/raw/df/February22_2025_Ni_powder_5_0C_MCP_TPX3_2_0AngsMin/\")\n",
    "master_dict.update(master_dict_fifth_row)\n",
    "\n",
    "# sixth row\n",
    "master_dict_sixth_row = fill_master_dict(6750, 6762, DataType.ob, 800, \"/IPTS-34969/images/tpx3/raw/ob/February23_2025_OB_5_0C_MCP_TPX3_2_0AngsMin/\")    \n",
    "master_dict.update(master_dict_sixth_row)\n",
    "\n",
    "# seventh row\n",
    "master_dict_seventh_row = fill_master_dict(6763, 6770, DataType.ob, 400, \"/IPTS-34969/images/tpx3/raw/ob/February24_2025_OB_5_0C_MCP_TPX3_2_0AngsMin/\")\n",
    "master_dict.update(master_dict_seventh_row)\n",
    "\n",
    "# eighth row\n",
    "master_dict_eighth_row = fill_master_dict(6771, 6779, DataType.ni, 400, \"/IPTS-34969/images/tpx3/raw/df/February24_2025_Ni_powder_5_0C_MCP_TPX3_2_0AngsMin/\")\n",
    "master_dict.update(master_dict_eighth_row)\n"
   ]
  },
  {
   "cell_type": "code",
   "execution_count": 67,
   "metadata": {},
   "outputs": [],
   "source": [
    "retrieve_metadata(master_dict)"
   ]
  },
  {
   "cell_type": "code",
   "execution_count": 68,
   "metadata": {},
   "outputs": [
    {
     "data": {
      "text/plain": [
       "{'data_type': 'ob',\n",
       " 'l_over_d': 400,\n",
       " 'data_path': '/IPTS-34969/images/tpx3/raw/radiographs/February20_2025_Ni_5C_MCP_TPX3_0_7AngsMin/',\n",
       " 'nexus_path': '/SNS/VENUS/IPTS-34969/nexus/VENUS_6690.nxs.h5',\n",
       " 'start_time': '2025-02-20T10:57:57.493248667-05:00',\n",
       " 'start_time_friendly_display': '2/20 10:57:57',\n",
       " 'start_time_in_seconds': 1740067077,\n",
       " 'BL10:Det:BM1:Histo:Daq:Rate': {'mean': 531.1718810351487,\n",
       "  'min': 160,\n",
       "  'max': 755},\n",
       " 'BL10:Det:T1:CountRate_RBV': {'mean': 3906921.0412802277,\n",
       "  'min': 0,\n",
       "  'max': 7676246},\n",
       " 'BL10:CS:tpx3:cam1:PelEvtRate_RBV': {'mean': 3911909.8164803744,\n",
       "  'min': 2394090,\n",
       "  'max': 4050313}}"
      ]
     },
     "execution_count": 68,
     "metadata": {},
     "output_type": "execute_result"
    }
   ],
   "source": [
    "master_dict[6690]"
   ]
  },
  {
   "cell_type": "markdown",
   "metadata": {},
   "source": [
    "# combine results"
   ]
  },
  {
   "cell_type": "code",
   "execution_count": null,
   "metadata": {},
   "outputs": [],
   "source": [
    "list_runs_for_plot = np.arange(6690, 6713)\n",
    "\n",
    "bm_averaged_count_rate = []\n",
    "bm_averaged_count_rate_error_low = []\n",
    "bm_averaged_count_rate_error_high = []\n",
    "\n",
    "averaged_count_rate_adted = []\n",
    "averaged_count_rate_adted_error_low = []\n",
    "averaged_count_rate_adted_error_high = []\n",
    "\n",
    "averaged_count_rate_serval = []\n",
    "averaged_count_rate_serval_error_low = []\n",
    "averaged_count_rate_serval_error_high = []\n",
    "\n",
    "nexus_runs = []\n",
    "acquisition_time_friendly = []\n",
    "acquisition_time_in_seconds = []\n",
    "\n",
    "first_entry = master_dict[list_runs_for_plot[0]]\n",
    "plot_title = f\"Average Count Rates - {first_entry[MasterKeys.data_type]} - L/D {first_entry[MasterKeys.l_over_d]}\"\n",
    "\n",
    "for key in list_runs_for_plot:\n",
    "    bm_averaged_count_rate.append(master_dict[key][PV.bm_averaged_count_rate][PVtags.mean])\n",
    "    bm_averaged_count_rate_error_low.append(master_dict[key][PV.bm_averaged_count_rate][PVtags.mean] - master_dict[key][PV.bm_averaged_count_rate][PVtags.min])\n",
    "    bm_averaged_count_rate_error_high.append(master_dict[key][PV.bm_averaged_count_rate][PVtags.max] - master_dict[key][PV.bm_averaged_count_rate][PVtags.mean] )\n",
    "    \n",
    "    averaged_count_rate_adted.append(master_dict[key][PV.averaged_count_rate_adted][PVtags.mean])\n",
    "    averaged_count_rate_adted_error_low.append(master_dict[key][PV.averaged_count_rate_adted][PVtags.mean] - master_dict[key][PV.averaged_count_rate_adted][PVtags.min])\n",
    "    averaged_count_rate_adted_error_high.append(master_dict[key][PV.averaged_count_rate_adted][PVtags.max] - master_dict[key][PV.averaged_count_rate_adted][PVtags.mean])\n",
    "\n",
    "    averaged_count_rate_serval.append(master_dict[key][PV.averaged_count_rate_serval][PVtags.mean])\n",
    "    averaged_count_rate_serval_error_low.append(master_dict[key][PV.averaged_count_rate_serval][PVtags.mean] - master_dict[key][PV.averaged_count_rate_serval][PVtags.min])\n",
    "    averaged_count_rate_serval_error_high.append(master_dict[key][PV.averaged_count_rate_serval][PVtags.max] - master_dict[key][PV.averaged_count_rate_serval][PVtags.mean])\n",
    "\n",
    "    nexus_runs.append(key)\n",
    "    acquisition_time_in_seconds.append(master_dict[key][MasterKeys.start_time_in_seconds])\n",
    "    acquisition_time_friendly.append(master_dict[key][MasterKeys.start_time_friendly_display])\n",
    "\n",
    "my_dict = {PV.bm_averaged_count_rate: bm_averaged_count_rate,\n",
    "        PV.bm_averaged_count_rate + \"_error_low\": bm_averaged_count_rate_error_low,\n",
    "        PV.bm_averaged_count_rate + \"_error_high\": bm_averaged_count_rate_error_high,\n",
    "        PV.averaged_count_rate_adted: averaged_count_rate_adted,\n",
    "        PV.averaged_count_rate_adted + \"_error_low\": averaged_count_rate_adted_error_low,\n",
    "        PV.averaged_count_rate_adted + \"_error_high\": averaged_count_rate_adted_error_high,\n",
    "        PV.averaged_count_rate_serval: averaged_count_rate_serval,\n",
    "        PV.averaged_count_rate_serval + \"_error_low\": averaged_count_rate_adted_error_low,\n",
    "        PV.averaged_count_rate_serval + \"_error_high\": averaged_count_rate_adted_error_high,\n",
    "        \"nexus_runs\": nexus_runs,\n",
    "        MasterKeys.start_time_friendly_display: acquisition_time_friendly,\n",
    "        MasterKeys.start_time_in_seconds: acquisition_time_in_seconds}\n",
    "df = pd.DataFrame(my_dict)\n",
    "\n"
   ]
  },
  {
   "cell_type": "code",
   "execution_count": 78,
   "metadata": {},
   "outputs": [
    {
     "data": {
      "application/vnd.plotly.v1+json": {
       "config": {
        "plotlyServerURL": "https://plot.ly"
       },
       "data": [
        {
         "line": {
          "color": "red",
          "width": 1
         },
         "marker": {
          "color": "red"
         },
         "mode": "lines+markers",
         "name": "Beam Monitor",
         "type": "scatter",
         "x": [
          1740067077,
          1740070967,
          1740076325,
          1740080248,
          1740084530,
          1740088433,
          1740092354,
          1740096208,
          1740100064,
          1740103919,
          1740107789,
          1740111635,
          1740116996,
          1740120869,
          1740126179,
          1740130037,
          1740133870,
          1740137705,
          1740143594,
          1740148024,
          1740151895,
          1740155741,
          1740161090
         ],
         "xaxis": "x",
         "y": [
          531.1718810351487,
          530.0016129032258,
          531.1604174719753,
          529.5988416988417,
          530.9793452844895,
          530.8050019538882,
          529.066640836885,
          528.9976825028969,
          528.045542261675,
          529.9423676012461,
          527.7926499032882,
          526.2665130568356,
          526.6273148148148,
          526.2378565921357,
          531.1313328137179,
          530.9659357870008,
          529.6323757763976,
          525.3965983764979,
          528.8131782945736,
          528.3087091757387,
          528.8113502935421,
          525.8468364197531,
          528.8495713172252
         ],
         "yaxis": "y"
        },
        {
         "line": {
          "color": "green",
          "width": 1
         },
         "marker": {
          "color": "green"
         },
         "mode": "lines+markers",
         "name": "ADtED",
         "type": "scatter",
         "x": [
          1740067077,
          1740070967,
          1740076325,
          1740080248,
          1740084530,
          1740088433,
          1740092354,
          1740096208,
          1740100064,
          1740103919,
          1740107789,
          1740111635,
          1740116996,
          1740120869,
          1740126179,
          1740130037,
          1740133870,
          1740137705,
          1740143594,
          1740148024,
          1740151895,
          1740155741,
          1740161090
         ],
         "xaxis": "x2",
         "y": [
          3906921.0412802277,
          3904036.8054773407,
          3907897.4562954064,
          3899614.509188602,
          3902153.7522428273,
          3947059.93819548,
          4340312.120524616,
          4347355.826628571,
          4346441.704874007,
          4352293.715257532,
          4360647.459734234,
          4336731.796872787,
          4345017.825824801,
          4343308.252959042,
          4370725.72380132,
          4372949.272217267,
          4364069.450611964,
          4322240.002526113,
          4353903.422236835,
          4346532.275954799,
          4337386.834841629,
          4319322.302251716,
          4346928.43716191
         ],
         "yaxis": "y2"
        },
        {
         "line": {
          "color": "violet",
          "width": 1
         },
         "marker": {
          "color": "violet"
         },
         "mode": "lines+markers",
         "name": "Serval",
         "type": "scatter",
         "x": [
          1740067077,
          1740070967,
          1740076325,
          1740080248,
          1740084530,
          1740088433,
          1740092354,
          1740096208,
          1740100064,
          1740103919,
          1740107789,
          1740111635,
          1740116996,
          1740120869,
          1740126179,
          1740130037,
          1740133870,
          1740137705,
          1740143594,
          1740148024,
          1740151895,
          1740155741,
          1740161090
         ],
         "xaxis": "x2",
         "y": [
          3911909.8164803744,
          3899507.2891599666,
          3910768.85930172,
          3901911.0825520833,
          3903780.6851319573,
          3947632.91220277,
          4339753.866545266,
          4347317.129402556,
          4347981.212926766,
          4353684.591098386,
          4361155.213071896,
          4338181.527878162,
          4347872.321919585,
          4345593.564307851,
          4372459.592215256,
          4373130.946236559,
          4368484.047145102,
          4325858.597882232,
          4353901.857589169,
          4347842.0409494005,
          4341506.859118184,
          4323394.88538163,
          4348943.889178618
         ],
         "yaxis": "y2"
        }
       ],
       "layout": {
        "height": 1000,
        "template": {
         "data": {
          "bar": [
           {
            "error_x": {
             "color": "#2a3f5f"
            },
            "error_y": {
             "color": "#2a3f5f"
            },
            "marker": {
             "line": {
              "color": "#E5ECF6",
              "width": 0.5
             },
             "pattern": {
              "fillmode": "overlay",
              "size": 10,
              "solidity": 0.2
             }
            },
            "type": "bar"
           }
          ],
          "barpolar": [
           {
            "marker": {
             "line": {
              "color": "#E5ECF6",
              "width": 0.5
             },
             "pattern": {
              "fillmode": "overlay",
              "size": 10,
              "solidity": 0.2
             }
            },
            "type": "barpolar"
           }
          ],
          "carpet": [
           {
            "aaxis": {
             "endlinecolor": "#2a3f5f",
             "gridcolor": "white",
             "linecolor": "white",
             "minorgridcolor": "white",
             "startlinecolor": "#2a3f5f"
            },
            "baxis": {
             "endlinecolor": "#2a3f5f",
             "gridcolor": "white",
             "linecolor": "white",
             "minorgridcolor": "white",
             "startlinecolor": "#2a3f5f"
            },
            "type": "carpet"
           }
          ],
          "choropleth": [
           {
            "colorbar": {
             "outlinewidth": 0,
             "ticks": ""
            },
            "type": "choropleth"
           }
          ],
          "contour": [
           {
            "colorbar": {
             "outlinewidth": 0,
             "ticks": ""
            },
            "colorscale": [
             [
              0,
              "#0d0887"
             ],
             [
              0.1111111111111111,
              "#46039f"
             ],
             [
              0.2222222222222222,
              "#7201a8"
             ],
             [
              0.3333333333333333,
              "#9c179e"
             ],
             [
              0.4444444444444444,
              "#bd3786"
             ],
             [
              0.5555555555555556,
              "#d8576b"
             ],
             [
              0.6666666666666666,
              "#ed7953"
             ],
             [
              0.7777777777777778,
              "#fb9f3a"
             ],
             [
              0.8888888888888888,
              "#fdca26"
             ],
             [
              1,
              "#f0f921"
             ]
            ],
            "type": "contour"
           }
          ],
          "contourcarpet": [
           {
            "colorbar": {
             "outlinewidth": 0,
             "ticks": ""
            },
            "type": "contourcarpet"
           }
          ],
          "heatmap": [
           {
            "colorbar": {
             "outlinewidth": 0,
             "ticks": ""
            },
            "colorscale": [
             [
              0,
              "#0d0887"
             ],
             [
              0.1111111111111111,
              "#46039f"
             ],
             [
              0.2222222222222222,
              "#7201a8"
             ],
             [
              0.3333333333333333,
              "#9c179e"
             ],
             [
              0.4444444444444444,
              "#bd3786"
             ],
             [
              0.5555555555555556,
              "#d8576b"
             ],
             [
              0.6666666666666666,
              "#ed7953"
             ],
             [
              0.7777777777777778,
              "#fb9f3a"
             ],
             [
              0.8888888888888888,
              "#fdca26"
             ],
             [
              1,
              "#f0f921"
             ]
            ],
            "type": "heatmap"
           }
          ],
          "heatmapgl": [
           {
            "colorbar": {
             "outlinewidth": 0,
             "ticks": ""
            },
            "colorscale": [
             [
              0,
              "#0d0887"
             ],
             [
              0.1111111111111111,
              "#46039f"
             ],
             [
              0.2222222222222222,
              "#7201a8"
             ],
             [
              0.3333333333333333,
              "#9c179e"
             ],
             [
              0.4444444444444444,
              "#bd3786"
             ],
             [
              0.5555555555555556,
              "#d8576b"
             ],
             [
              0.6666666666666666,
              "#ed7953"
             ],
             [
              0.7777777777777778,
              "#fb9f3a"
             ],
             [
              0.8888888888888888,
              "#fdca26"
             ],
             [
              1,
              "#f0f921"
             ]
            ],
            "type": "heatmapgl"
           }
          ],
          "histogram": [
           {
            "marker": {
             "pattern": {
              "fillmode": "overlay",
              "size": 10,
              "solidity": 0.2
             }
            },
            "type": "histogram"
           }
          ],
          "histogram2d": [
           {
            "colorbar": {
             "outlinewidth": 0,
             "ticks": ""
            },
            "colorscale": [
             [
              0,
              "#0d0887"
             ],
             [
              0.1111111111111111,
              "#46039f"
             ],
             [
              0.2222222222222222,
              "#7201a8"
             ],
             [
              0.3333333333333333,
              "#9c179e"
             ],
             [
              0.4444444444444444,
              "#bd3786"
             ],
             [
              0.5555555555555556,
              "#d8576b"
             ],
             [
              0.6666666666666666,
              "#ed7953"
             ],
             [
              0.7777777777777778,
              "#fb9f3a"
             ],
             [
              0.8888888888888888,
              "#fdca26"
             ],
             [
              1,
              "#f0f921"
             ]
            ],
            "type": "histogram2d"
           }
          ],
          "histogram2dcontour": [
           {
            "colorbar": {
             "outlinewidth": 0,
             "ticks": ""
            },
            "colorscale": [
             [
              0,
              "#0d0887"
             ],
             [
              0.1111111111111111,
              "#46039f"
             ],
             [
              0.2222222222222222,
              "#7201a8"
             ],
             [
              0.3333333333333333,
              "#9c179e"
             ],
             [
              0.4444444444444444,
              "#bd3786"
             ],
             [
              0.5555555555555556,
              "#d8576b"
             ],
             [
              0.6666666666666666,
              "#ed7953"
             ],
             [
              0.7777777777777778,
              "#fb9f3a"
             ],
             [
              0.8888888888888888,
              "#fdca26"
             ],
             [
              1,
              "#f0f921"
             ]
            ],
            "type": "histogram2dcontour"
           }
          ],
          "mesh3d": [
           {
            "colorbar": {
             "outlinewidth": 0,
             "ticks": ""
            },
            "type": "mesh3d"
           }
          ],
          "parcoords": [
           {
            "line": {
             "colorbar": {
              "outlinewidth": 0,
              "ticks": ""
             }
            },
            "type": "parcoords"
           }
          ],
          "pie": [
           {
            "automargin": true,
            "type": "pie"
           }
          ],
          "scatter": [
           {
            "fillpattern": {
             "fillmode": "overlay",
             "size": 10,
             "solidity": 0.2
            },
            "type": "scatter"
           }
          ],
          "scatter3d": [
           {
            "line": {
             "colorbar": {
              "outlinewidth": 0,
              "ticks": ""
             }
            },
            "marker": {
             "colorbar": {
              "outlinewidth": 0,
              "ticks": ""
             }
            },
            "type": "scatter3d"
           }
          ],
          "scattercarpet": [
           {
            "marker": {
             "colorbar": {
              "outlinewidth": 0,
              "ticks": ""
             }
            },
            "type": "scattercarpet"
           }
          ],
          "scattergeo": [
           {
            "marker": {
             "colorbar": {
              "outlinewidth": 0,
              "ticks": ""
             }
            },
            "type": "scattergeo"
           }
          ],
          "scattergl": [
           {
            "marker": {
             "colorbar": {
              "outlinewidth": 0,
              "ticks": ""
             }
            },
            "type": "scattergl"
           }
          ],
          "scattermapbox": [
           {
            "marker": {
             "colorbar": {
              "outlinewidth": 0,
              "ticks": ""
             }
            },
            "type": "scattermapbox"
           }
          ],
          "scatterpolar": [
           {
            "marker": {
             "colorbar": {
              "outlinewidth": 0,
              "ticks": ""
             }
            },
            "type": "scatterpolar"
           }
          ],
          "scatterpolargl": [
           {
            "marker": {
             "colorbar": {
              "outlinewidth": 0,
              "ticks": ""
             }
            },
            "type": "scatterpolargl"
           }
          ],
          "scatterternary": [
           {
            "marker": {
             "colorbar": {
              "outlinewidth": 0,
              "ticks": ""
             }
            },
            "type": "scatterternary"
           }
          ],
          "surface": [
           {
            "colorbar": {
             "outlinewidth": 0,
             "ticks": ""
            },
            "colorscale": [
             [
              0,
              "#0d0887"
             ],
             [
              0.1111111111111111,
              "#46039f"
             ],
             [
              0.2222222222222222,
              "#7201a8"
             ],
             [
              0.3333333333333333,
              "#9c179e"
             ],
             [
              0.4444444444444444,
              "#bd3786"
             ],
             [
              0.5555555555555556,
              "#d8576b"
             ],
             [
              0.6666666666666666,
              "#ed7953"
             ],
             [
              0.7777777777777778,
              "#fb9f3a"
             ],
             [
              0.8888888888888888,
              "#fdca26"
             ],
             [
              1,
              "#f0f921"
             ]
            ],
            "type": "surface"
           }
          ],
          "table": [
           {
            "cells": {
             "fill": {
              "color": "#EBF0F8"
             },
             "line": {
              "color": "white"
             }
            },
            "header": {
             "fill": {
              "color": "#C8D4E3"
             },
             "line": {
              "color": "white"
             }
            },
            "type": "table"
           }
          ]
         },
         "layout": {
          "annotationdefaults": {
           "arrowcolor": "#2a3f5f",
           "arrowhead": 0,
           "arrowwidth": 1
          },
          "autotypenumbers": "strict",
          "coloraxis": {
           "colorbar": {
            "outlinewidth": 0,
            "ticks": ""
           }
          },
          "colorscale": {
           "diverging": [
            [
             0,
             "#8e0152"
            ],
            [
             0.1,
             "#c51b7d"
            ],
            [
             0.2,
             "#de77ae"
            ],
            [
             0.3,
             "#f1b6da"
            ],
            [
             0.4,
             "#fde0ef"
            ],
            [
             0.5,
             "#f7f7f7"
            ],
            [
             0.6,
             "#e6f5d0"
            ],
            [
             0.7,
             "#b8e186"
            ],
            [
             0.8,
             "#7fbc41"
            ],
            [
             0.9,
             "#4d9221"
            ],
            [
             1,
             "#276419"
            ]
           ],
           "sequential": [
            [
             0,
             "#0d0887"
            ],
            [
             0.1111111111111111,
             "#46039f"
            ],
            [
             0.2222222222222222,
             "#7201a8"
            ],
            [
             0.3333333333333333,
             "#9c179e"
            ],
            [
             0.4444444444444444,
             "#bd3786"
            ],
            [
             0.5555555555555556,
             "#d8576b"
            ],
            [
             0.6666666666666666,
             "#ed7953"
            ],
            [
             0.7777777777777778,
             "#fb9f3a"
            ],
            [
             0.8888888888888888,
             "#fdca26"
            ],
            [
             1,
             "#f0f921"
            ]
           ],
           "sequentialminus": [
            [
             0,
             "#0d0887"
            ],
            [
             0.1111111111111111,
             "#46039f"
            ],
            [
             0.2222222222222222,
             "#7201a8"
            ],
            [
             0.3333333333333333,
             "#9c179e"
            ],
            [
             0.4444444444444444,
             "#bd3786"
            ],
            [
             0.5555555555555556,
             "#d8576b"
            ],
            [
             0.6666666666666666,
             "#ed7953"
            ],
            [
             0.7777777777777778,
             "#fb9f3a"
            ],
            [
             0.8888888888888888,
             "#fdca26"
            ],
            [
             1,
             "#f0f921"
            ]
           ]
          },
          "colorway": [
           "#636efa",
           "#EF553B",
           "#00cc96",
           "#ab63fa",
           "#FFA15A",
           "#19d3f3",
           "#FF6692",
           "#B6E880",
           "#FF97FF",
           "#FECB52"
          ],
          "font": {
           "color": "#2a3f5f"
          },
          "geo": {
           "bgcolor": "white",
           "lakecolor": "white",
           "landcolor": "#E5ECF6",
           "showlakes": true,
           "showland": true,
           "subunitcolor": "white"
          },
          "hoverlabel": {
           "align": "left"
          },
          "hovermode": "closest",
          "mapbox": {
           "style": "light"
          },
          "paper_bgcolor": "white",
          "plot_bgcolor": "#E5ECF6",
          "polar": {
           "angularaxis": {
            "gridcolor": "white",
            "linecolor": "white",
            "ticks": ""
           },
           "bgcolor": "#E5ECF6",
           "radialaxis": {
            "gridcolor": "white",
            "linecolor": "white",
            "ticks": ""
           }
          },
          "scene": {
           "xaxis": {
            "backgroundcolor": "#E5ECF6",
            "gridcolor": "white",
            "gridwidth": 2,
            "linecolor": "white",
            "showbackground": true,
            "ticks": "",
            "zerolinecolor": "white"
           },
           "yaxis": {
            "backgroundcolor": "#E5ECF6",
            "gridcolor": "white",
            "gridwidth": 2,
            "linecolor": "white",
            "showbackground": true,
            "ticks": "",
            "zerolinecolor": "white"
           },
           "zaxis": {
            "backgroundcolor": "#E5ECF6",
            "gridcolor": "white",
            "gridwidth": 2,
            "linecolor": "white",
            "showbackground": true,
            "ticks": "",
            "zerolinecolor": "white"
           }
          },
          "shapedefaults": {
           "line": {
            "color": "#2a3f5f"
           }
          },
          "ternary": {
           "aaxis": {
            "gridcolor": "white",
            "linecolor": "white",
            "ticks": ""
           },
           "baxis": {
            "gridcolor": "white",
            "linecolor": "white",
            "ticks": ""
           },
           "bgcolor": "#E5ECF6",
           "caxis": {
            "gridcolor": "white",
            "linecolor": "white",
            "ticks": ""
           }
          },
          "title": {
           "x": 0.05
          },
          "xaxis": {
           "automargin": true,
           "gridcolor": "white",
           "linecolor": "white",
           "ticks": "",
           "title": {
            "standoff": 15
           },
           "zerolinecolor": "white",
           "zerolinewidth": 2
          },
          "yaxis": {
           "automargin": true,
           "gridcolor": "white",
           "linecolor": "white",
           "ticks": "",
           "title": {
            "standoff": 15
           },
           "zerolinecolor": "white",
           "zerolinewidth": 2
          }
         }
        },
        "title": {
         "text": "Average Count Rates - ob - L/D = 400"
        },
        "xaxis": {
         "anchor": "y",
         "domain": [
          0,
          1
         ],
         "tickmode": "array",
         "ticktext": [
          "2/20 10:57:57",
          "2/20 12:2:47",
          "2/20 13:32:5",
          "2/20 14:37:28",
          "2/20 15:48:50",
          "2/20 16:53:53",
          "2/20 17:59:14",
          "2/20 19:3:28",
          "2/20 20:7:44",
          "2/20 21:11:59",
          "2/20 22:16:29",
          "2/20 23:20:35",
          "2/21 0:49:56",
          "2/21 1:54:29",
          "2/21 3:22:59",
          "2/21 4:27:17",
          "2/21 5:31:10",
          "2/21 6:35:5",
          "2/21 8:13:14",
          "2/21 9:27:4",
          "2/21 10:31:35",
          "2/21 11:35:41",
          "2/21 13:4:50"
         ],
         "tickvals": [
          1740067077,
          1740070967,
          1740076325,
          1740080248,
          1740084530,
          1740088433,
          1740092354,
          1740096208,
          1740100064,
          1740103919,
          1740107789,
          1740111635,
          1740116996,
          1740120869,
          1740126179,
          1740130037,
          1740133870,
          1740137705,
          1740143594,
          1740148024,
          1740151895,
          1740155741,
          1740161090
         ]
        },
        "xaxis2": {
         "anchor": "y2",
         "domain": [
          0,
          1
         ],
         "side": "top",
         "tickmode": "array",
         "ticktext": [
          6690,
          6691,
          6692,
          6693,
          6694,
          6695,
          6696,
          6697,
          6698,
          6699,
          6700,
          6701,
          6702,
          6703,
          6704,
          6705,
          6706,
          6707,
          6708,
          6709,
          6710,
          6711,
          6712
         ],
         "tickvals": [
          1740067077,
          1740070967,
          1740076325,
          1740080248,
          1740084530,
          1740088433,
          1740092354,
          1740096208,
          1740100064,
          1740103919,
          1740107789,
          1740111635,
          1740116996,
          1740120869,
          1740126179,
          1740130037,
          1740133870,
          1740137705,
          1740143594,
          1740148024,
          1740151895,
          1740155741,
          1740161090
         ]
        },
        "yaxis": {
         "anchor": "x",
         "domain": [
          0.575,
          1
         ],
         "type": "log"
        },
        "yaxis2": {
         "anchor": "x2",
         "domain": [
          0,
          0.425
         ],
         "type": "log"
        }
       }
      },
      "text/html": [
       "<div>                            <div id=\"757fc0e3-dbc8-4264-822f-08246fdbbaad\" class=\"plotly-graph-div\" style=\"height:1000px; width:100%;\"></div>            <script type=\"text/javascript\">                require([\"plotly\"], function(Plotly) {                    window.PLOTLYENV=window.PLOTLYENV || {};                                    if (document.getElementById(\"757fc0e3-dbc8-4264-822f-08246fdbbaad\")) {                    Plotly.newPlot(                        \"757fc0e3-dbc8-4264-822f-08246fdbbaad\",                        [{\"line\":{\"color\":\"red\",\"width\":1},\"marker\":{\"color\":\"red\"},\"mode\":\"lines+markers\",\"name\":\"Beam Monitor\",\"x\":[1740067077,1740070967,1740076325,1740080248,1740084530,1740088433,1740092354,1740096208,1740100064,1740103919,1740107789,1740111635,1740116996,1740120869,1740126179,1740130037,1740133870,1740137705,1740143594,1740148024,1740151895,1740155741,1740161090],\"y\":[531.1718810351487,530.0016129032258,531.1604174719753,529.5988416988417,530.9793452844895,530.8050019538882,529.066640836885,528.9976825028969,528.045542261675,529.9423676012461,527.7926499032882,526.2665130568356,526.6273148148148,526.2378565921357,531.1313328137179,530.9659357870008,529.6323757763976,525.3965983764979,528.8131782945736,528.3087091757387,528.8113502935421,525.8468364197531,528.8495713172252],\"type\":\"scatter\",\"xaxis\":\"x\",\"yaxis\":\"y\"},{\"line\":{\"color\":\"green\",\"width\":1},\"marker\":{\"color\":\"green\"},\"mode\":\"lines+markers\",\"name\":\"ADtED\",\"x\":[1740067077,1740070967,1740076325,1740080248,1740084530,1740088433,1740092354,1740096208,1740100064,1740103919,1740107789,1740111635,1740116996,1740120869,1740126179,1740130037,1740133870,1740137705,1740143594,1740148024,1740151895,1740155741,1740161090],\"y\":[3906921.0412802277,3904036.8054773407,3907897.4562954064,3899614.509188602,3902153.7522428273,3947059.93819548,4340312.120524616,4347355.826628571,4346441.704874007,4352293.715257532,4360647.459734234,4336731.796872787,4345017.825824801,4343308.252959042,4370725.72380132,4372949.272217267,4364069.450611964,4322240.002526113,4353903.422236835,4346532.275954799,4337386.834841629,4319322.302251716,4346928.43716191],\"type\":\"scatter\",\"xaxis\":\"x2\",\"yaxis\":\"y2\"},{\"line\":{\"color\":\"violet\",\"width\":1},\"marker\":{\"color\":\"violet\"},\"mode\":\"lines+markers\",\"name\":\"Serval\",\"x\":[1740067077,1740070967,1740076325,1740080248,1740084530,1740088433,1740092354,1740096208,1740100064,1740103919,1740107789,1740111635,1740116996,1740120869,1740126179,1740130037,1740133870,1740137705,1740143594,1740148024,1740151895,1740155741,1740161090],\"y\":[3911909.8164803744,3899507.2891599666,3910768.85930172,3901911.0825520833,3903780.6851319573,3947632.91220277,4339753.866545266,4347317.129402556,4347981.212926766,4353684.591098386,4361155.213071896,4338181.527878162,4347872.321919585,4345593.564307851,4372459.592215256,4373130.946236559,4368484.047145102,4325858.597882232,4353901.857589169,4347842.0409494005,4341506.859118184,4323394.88538163,4348943.889178618],\"type\":\"scatter\",\"xaxis\":\"x2\",\"yaxis\":\"y2\"}],                        {\"template\":{\"data\":{\"histogram2dcontour\":[{\"type\":\"histogram2dcontour\",\"colorbar\":{\"outlinewidth\":0,\"ticks\":\"\"},\"colorscale\":[[0.0,\"#0d0887\"],[0.1111111111111111,\"#46039f\"],[0.2222222222222222,\"#7201a8\"],[0.3333333333333333,\"#9c179e\"],[0.4444444444444444,\"#bd3786\"],[0.5555555555555556,\"#d8576b\"],[0.6666666666666666,\"#ed7953\"],[0.7777777777777778,\"#fb9f3a\"],[0.8888888888888888,\"#fdca26\"],[1.0,\"#f0f921\"]]}],\"choropleth\":[{\"type\":\"choropleth\",\"colorbar\":{\"outlinewidth\":0,\"ticks\":\"\"}}],\"histogram2d\":[{\"type\":\"histogram2d\",\"colorbar\":{\"outlinewidth\":0,\"ticks\":\"\"},\"colorscale\":[[0.0,\"#0d0887\"],[0.1111111111111111,\"#46039f\"],[0.2222222222222222,\"#7201a8\"],[0.3333333333333333,\"#9c179e\"],[0.4444444444444444,\"#bd3786\"],[0.5555555555555556,\"#d8576b\"],[0.6666666666666666,\"#ed7953\"],[0.7777777777777778,\"#fb9f3a\"],[0.8888888888888888,\"#fdca26\"],[1.0,\"#f0f921\"]]}],\"heatmap\":[{\"type\":\"heatmap\",\"colorbar\":{\"outlinewidth\":0,\"ticks\":\"\"},\"colorscale\":[[0.0,\"#0d0887\"],[0.1111111111111111,\"#46039f\"],[0.2222222222222222,\"#7201a8\"],[0.3333333333333333,\"#9c179e\"],[0.4444444444444444,\"#bd3786\"],[0.5555555555555556,\"#d8576b\"],[0.6666666666666666,\"#ed7953\"],[0.7777777777777778,\"#fb9f3a\"],[0.8888888888888888,\"#fdca26\"],[1.0,\"#f0f921\"]]}],\"heatmapgl\":[{\"type\":\"heatmapgl\",\"colorbar\":{\"outlinewidth\":0,\"ticks\":\"\"},\"colorscale\":[[0.0,\"#0d0887\"],[0.1111111111111111,\"#46039f\"],[0.2222222222222222,\"#7201a8\"],[0.3333333333333333,\"#9c179e\"],[0.4444444444444444,\"#bd3786\"],[0.5555555555555556,\"#d8576b\"],[0.6666666666666666,\"#ed7953\"],[0.7777777777777778,\"#fb9f3a\"],[0.8888888888888888,\"#fdca26\"],[1.0,\"#f0f921\"]]}],\"contourcarpet\":[{\"type\":\"contourcarpet\",\"colorbar\":{\"outlinewidth\":0,\"ticks\":\"\"}}],\"contour\":[{\"type\":\"contour\",\"colorbar\":{\"outlinewidth\":0,\"ticks\":\"\"},\"colorscale\":[[0.0,\"#0d0887\"],[0.1111111111111111,\"#46039f\"],[0.2222222222222222,\"#7201a8\"],[0.3333333333333333,\"#9c179e\"],[0.4444444444444444,\"#bd3786\"],[0.5555555555555556,\"#d8576b\"],[0.6666666666666666,\"#ed7953\"],[0.7777777777777778,\"#fb9f3a\"],[0.8888888888888888,\"#fdca26\"],[1.0,\"#f0f921\"]]}],\"surface\":[{\"type\":\"surface\",\"colorbar\":{\"outlinewidth\":0,\"ticks\":\"\"},\"colorscale\":[[0.0,\"#0d0887\"],[0.1111111111111111,\"#46039f\"],[0.2222222222222222,\"#7201a8\"],[0.3333333333333333,\"#9c179e\"],[0.4444444444444444,\"#bd3786\"],[0.5555555555555556,\"#d8576b\"],[0.6666666666666666,\"#ed7953\"],[0.7777777777777778,\"#fb9f3a\"],[0.8888888888888888,\"#fdca26\"],[1.0,\"#f0f921\"]]}],\"mesh3d\":[{\"type\":\"mesh3d\",\"colorbar\":{\"outlinewidth\":0,\"ticks\":\"\"}}],\"scatter\":[{\"fillpattern\":{\"fillmode\":\"overlay\",\"size\":10,\"solidity\":0.2},\"type\":\"scatter\"}],\"parcoords\":[{\"type\":\"parcoords\",\"line\":{\"colorbar\":{\"outlinewidth\":0,\"ticks\":\"\"}}}],\"scatterpolargl\":[{\"type\":\"scatterpolargl\",\"marker\":{\"colorbar\":{\"outlinewidth\":0,\"ticks\":\"\"}}}],\"bar\":[{\"error_x\":{\"color\":\"#2a3f5f\"},\"error_y\":{\"color\":\"#2a3f5f\"},\"marker\":{\"line\":{\"color\":\"#E5ECF6\",\"width\":0.5},\"pattern\":{\"fillmode\":\"overlay\",\"size\":10,\"solidity\":0.2}},\"type\":\"bar\"}],\"scattergeo\":[{\"type\":\"scattergeo\",\"marker\":{\"colorbar\":{\"outlinewidth\":0,\"ticks\":\"\"}}}],\"scatterpolar\":[{\"type\":\"scatterpolar\",\"marker\":{\"colorbar\":{\"outlinewidth\":0,\"ticks\":\"\"}}}],\"histogram\":[{\"marker\":{\"pattern\":{\"fillmode\":\"overlay\",\"size\":10,\"solidity\":0.2}},\"type\":\"histogram\"}],\"scattergl\":[{\"type\":\"scattergl\",\"marker\":{\"colorbar\":{\"outlinewidth\":0,\"ticks\":\"\"}}}],\"scatter3d\":[{\"type\":\"scatter3d\",\"line\":{\"colorbar\":{\"outlinewidth\":0,\"ticks\":\"\"}},\"marker\":{\"colorbar\":{\"outlinewidth\":0,\"ticks\":\"\"}}}],\"scattermapbox\":[{\"type\":\"scattermapbox\",\"marker\":{\"colorbar\":{\"outlinewidth\":0,\"ticks\":\"\"}}}],\"scatterternary\":[{\"type\":\"scatterternary\",\"marker\":{\"colorbar\":{\"outlinewidth\":0,\"ticks\":\"\"}}}],\"scattercarpet\":[{\"type\":\"scattercarpet\",\"marker\":{\"colorbar\":{\"outlinewidth\":0,\"ticks\":\"\"}}}],\"carpet\":[{\"aaxis\":{\"endlinecolor\":\"#2a3f5f\",\"gridcolor\":\"white\",\"linecolor\":\"white\",\"minorgridcolor\":\"white\",\"startlinecolor\":\"#2a3f5f\"},\"baxis\":{\"endlinecolor\":\"#2a3f5f\",\"gridcolor\":\"white\",\"linecolor\":\"white\",\"minorgridcolor\":\"white\",\"startlinecolor\":\"#2a3f5f\"},\"type\":\"carpet\"}],\"table\":[{\"cells\":{\"fill\":{\"color\":\"#EBF0F8\"},\"line\":{\"color\":\"white\"}},\"header\":{\"fill\":{\"color\":\"#C8D4E3\"},\"line\":{\"color\":\"white\"}},\"type\":\"table\"}],\"barpolar\":[{\"marker\":{\"line\":{\"color\":\"#E5ECF6\",\"width\":0.5},\"pattern\":{\"fillmode\":\"overlay\",\"size\":10,\"solidity\":0.2}},\"type\":\"barpolar\"}],\"pie\":[{\"automargin\":true,\"type\":\"pie\"}]},\"layout\":{\"autotypenumbers\":\"strict\",\"colorway\":[\"#636efa\",\"#EF553B\",\"#00cc96\",\"#ab63fa\",\"#FFA15A\",\"#19d3f3\",\"#FF6692\",\"#B6E880\",\"#FF97FF\",\"#FECB52\"],\"font\":{\"color\":\"#2a3f5f\"},\"hovermode\":\"closest\",\"hoverlabel\":{\"align\":\"left\"},\"paper_bgcolor\":\"white\",\"plot_bgcolor\":\"#E5ECF6\",\"polar\":{\"bgcolor\":\"#E5ECF6\",\"angularaxis\":{\"gridcolor\":\"white\",\"linecolor\":\"white\",\"ticks\":\"\"},\"radialaxis\":{\"gridcolor\":\"white\",\"linecolor\":\"white\",\"ticks\":\"\"}},\"ternary\":{\"bgcolor\":\"#E5ECF6\",\"aaxis\":{\"gridcolor\":\"white\",\"linecolor\":\"white\",\"ticks\":\"\"},\"baxis\":{\"gridcolor\":\"white\",\"linecolor\":\"white\",\"ticks\":\"\"},\"caxis\":{\"gridcolor\":\"white\",\"linecolor\":\"white\",\"ticks\":\"\"}},\"coloraxis\":{\"colorbar\":{\"outlinewidth\":0,\"ticks\":\"\"}},\"colorscale\":{\"sequential\":[[0.0,\"#0d0887\"],[0.1111111111111111,\"#46039f\"],[0.2222222222222222,\"#7201a8\"],[0.3333333333333333,\"#9c179e\"],[0.4444444444444444,\"#bd3786\"],[0.5555555555555556,\"#d8576b\"],[0.6666666666666666,\"#ed7953\"],[0.7777777777777778,\"#fb9f3a\"],[0.8888888888888888,\"#fdca26\"],[1.0,\"#f0f921\"]],\"sequentialminus\":[[0.0,\"#0d0887\"],[0.1111111111111111,\"#46039f\"],[0.2222222222222222,\"#7201a8\"],[0.3333333333333333,\"#9c179e\"],[0.4444444444444444,\"#bd3786\"],[0.5555555555555556,\"#d8576b\"],[0.6666666666666666,\"#ed7953\"],[0.7777777777777778,\"#fb9f3a\"],[0.8888888888888888,\"#fdca26\"],[1.0,\"#f0f921\"]],\"diverging\":[[0,\"#8e0152\"],[0.1,\"#c51b7d\"],[0.2,\"#de77ae\"],[0.3,\"#f1b6da\"],[0.4,\"#fde0ef\"],[0.5,\"#f7f7f7\"],[0.6,\"#e6f5d0\"],[0.7,\"#b8e186\"],[0.8,\"#7fbc41\"],[0.9,\"#4d9221\"],[1,\"#276419\"]]},\"xaxis\":{\"gridcolor\":\"white\",\"linecolor\":\"white\",\"ticks\":\"\",\"title\":{\"standoff\":15},\"zerolinecolor\":\"white\",\"automargin\":true,\"zerolinewidth\":2},\"yaxis\":{\"gridcolor\":\"white\",\"linecolor\":\"white\",\"ticks\":\"\",\"title\":{\"standoff\":15},\"zerolinecolor\":\"white\",\"automargin\":true,\"zerolinewidth\":2},\"scene\":{\"xaxis\":{\"backgroundcolor\":\"#E5ECF6\",\"gridcolor\":\"white\",\"linecolor\":\"white\",\"showbackground\":true,\"ticks\":\"\",\"zerolinecolor\":\"white\",\"gridwidth\":2},\"yaxis\":{\"backgroundcolor\":\"#E5ECF6\",\"gridcolor\":\"white\",\"linecolor\":\"white\",\"showbackground\":true,\"ticks\":\"\",\"zerolinecolor\":\"white\",\"gridwidth\":2},\"zaxis\":{\"backgroundcolor\":\"#E5ECF6\",\"gridcolor\":\"white\",\"linecolor\":\"white\",\"showbackground\":true,\"ticks\":\"\",\"zerolinecolor\":\"white\",\"gridwidth\":2}},\"shapedefaults\":{\"line\":{\"color\":\"#2a3f5f\"}},\"annotationdefaults\":{\"arrowcolor\":\"#2a3f5f\",\"arrowhead\":0,\"arrowwidth\":1},\"geo\":{\"bgcolor\":\"white\",\"landcolor\":\"#E5ECF6\",\"subunitcolor\":\"white\",\"showland\":true,\"showlakes\":true,\"lakecolor\":\"white\"},\"title\":{\"x\":0.05},\"mapbox\":{\"style\":\"light\"}}},\"xaxis\":{\"anchor\":\"y\",\"domain\":[0.0,1.0],\"tickmode\":\"array\",\"ticktext\":[\"2/20 10:57:57\",\"2/20 12:2:47\",\"2/20 13:32:5\",\"2/20 14:37:28\",\"2/20 15:48:50\",\"2/20 16:53:53\",\"2/20 17:59:14\",\"2/20 19:3:28\",\"2/20 20:7:44\",\"2/20 21:11:59\",\"2/20 22:16:29\",\"2/20 23:20:35\",\"2/21 0:49:56\",\"2/21 1:54:29\",\"2/21 3:22:59\",\"2/21 4:27:17\",\"2/21 5:31:10\",\"2/21 6:35:5\",\"2/21 8:13:14\",\"2/21 9:27:4\",\"2/21 10:31:35\",\"2/21 11:35:41\",\"2/21 13:4:50\"],\"tickvals\":[1740067077,1740070967,1740076325,1740080248,1740084530,1740088433,1740092354,1740096208,1740100064,1740103919,1740107789,1740111635,1740116996,1740120869,1740126179,1740130037,1740133870,1740137705,1740143594,1740148024,1740151895,1740155741,1740161090]},\"yaxis\":{\"anchor\":\"x\",\"domain\":[0.575,1.0],\"type\":\"log\"},\"xaxis2\":{\"anchor\":\"y2\",\"domain\":[0.0,1.0],\"side\":\"top\",\"tickmode\":\"array\",\"ticktext\":[6690,6691,6692,6693,6694,6695,6696,6697,6698,6699,6700,6701,6702,6703,6704,6705,6706,6707,6708,6709,6710,6711,6712],\"tickvals\":[1740067077,1740070967,1740076325,1740080248,1740084530,1740088433,1740092354,1740096208,1740100064,1740103919,1740107789,1740111635,1740116996,1740120869,1740126179,1740130037,1740133870,1740137705,1740143594,1740148024,1740151895,1740155741,1740161090]},\"yaxis2\":{\"anchor\":\"x2\",\"domain\":[0.0,0.425],\"type\":\"log\"},\"title\":{\"text\":\"Average Count Rates - ob - L/D = 400\"},\"height\":1000},                        {\"responsive\": true}                    ).then(function(){\n",
       "                            \n",
       "var gd = document.getElementById('757fc0e3-dbc8-4264-822f-08246fdbbaad');\n",
       "var x = new MutationObserver(function (mutations, observer) {{\n",
       "        var display = window.getComputedStyle(gd).display;\n",
       "        if (!display || display === 'none') {{\n",
       "            console.log([gd, 'removed!']);\n",
       "            Plotly.purge(gd);\n",
       "            observer.disconnect();\n",
       "        }}\n",
       "}});\n",
       "\n",
       "// Listen for the removal of the full notebook cells\n",
       "var notebookContainer = gd.closest('#notebook-container');\n",
       "if (notebookContainer) {{\n",
       "    x.observe(notebookContainer, {childList: true});\n",
       "}}\n",
       "\n",
       "// Listen for the clearing of the current output cell\n",
       "var outputEl = gd.closest('.output');\n",
       "if (outputEl) {{\n",
       "    x.observe(outputEl, {childList: true});\n",
       "}}\n",
       "\n",
       "                        })                };                });            </script>        </div>"
      ]
     },
     "metadata": {},
     "output_type": "display_data"
    }
   ],
   "source": [
    "layout = go.Layout(\n",
    "    height=1000,\n",
    "    xaxis=XAxis(\n",
    "        tickmode='array',\n",
    "        tickvals=df[MasterKeys.start_time_in_seconds],\n",
    "        ticktext=df[MasterKeys.start_time_friendly_display],\n",
    "        # title='Date/Time'\n",
    "    ),\n",
    "    xaxis2=XAxis(\n",
    "        tickmode='array',\n",
    "        tickvals=df[MasterKeys.start_time_in_seconds],\n",
    "        ticktext=df[\"nexus_runs\"],\n",
    "        # title='NeXus runs',\n",
    "        side='top'\n",
    "    ),\n",
    "    title_text=plot_title,\n",
    ")\n",
    "\n",
    "fig = make_subplots(rows=2, cols=1)\n",
    "\n",
    "# fig = go.Figure(layout=layout)\n",
    "\n",
    "fig.append_trace(go.Scatter(x=df[MasterKeys.start_time_in_seconds], \n",
    "                 y=df[PV.bm_averaged_count_rate], \n",
    "                #  error_y=dict(type='data',\n",
    "                #               array=df[PV.bm_averaged_count_rate + \"_error_high\"],\n",
    "                #               arrayminus=df[PV.bm_averaged_count_rate + \"_error_low\"],\n",
    "                #               visible=True),\n",
    "                mode='lines+markers',\n",
    "                name=PVnames.bm_averaged_count_rate,\n",
    "                marker_color='red',\n",
    "                line=dict(color='red', width=1),\n",
    "                \n",
    "                ),\n",
    "                row=1, col=1)\n",
    "\n",
    "fig.append_trace(go.Scatter(x=df[MasterKeys.start_time_in_seconds], \n",
    "                 y=df[PV.averaged_count_rate_adted], \n",
    "                #  error_y=dict(type='data',\n",
    "                #               array=df[PV.averaged_count_rate_adted + \"_error_high\"],\n",
    "                #               arrayminus=df[PV.averaged_count_rate_adted + \"_error_low\"],\n",
    "                #               visible=True),\n",
    "                mode='lines+markers',\n",
    "                name=PVnames.averaged_count_rate_adted,\n",
    "                marker_color='green',\n",
    "                line=dict(color='green', width=1),\n",
    "                ),\n",
    "                row=2, col=1)\n",
    "\n",
    "fig.append_trace(go.Scatter(x=df[MasterKeys.start_time_in_seconds], \n",
    "                 y=df[PV.averaged_count_rate_serval], \n",
    "                #  error_y=dict(type='data',\n",
    "                #               array=df[PV.averaged_count_rate_adted + \"_error_high\"],\n",
    "                #               arrayminus=df[PV.averaged_count_rate_adted + \"_error_low\"],\n",
    "                #               visible=True),\n",
    "                mode='lines+markers',\n",
    "                name=PVnames.averaged_count_rate_serval,\n",
    "                marker_color='violet',\n",
    "                line=dict(color='violet', width=1),\n",
    "                ),\n",
    "                row=2, col=1)\n",
    "\n",
    "fig.update_yaxes(type='log')\n",
    "fig.update_layout(layout)\n",
    "\n",
    "\n",
    "# fig.update_layout(\n",
    "#     xaxis = dict(\n",
    "#         tickmode='array',\n",
    "#         tickvals=df[MasterKeys.start_time_in_seconds],\n",
    "#         ticktext=df[MasterKeys.start_time_friendly_display],\n",
    "#     ),\n",
    "# )\n",
    "\n",
    "\n",
    "\n",
    "fig.show()"
   ]
  },
  {
   "cell_type": "code",
   "execution_count": null,
   "metadata": {},
   "outputs": [],
   "source": []
  }
 ],
 "metadata": {
  "kernelspec": {
   "display_name": "Python 3",
   "language": "python",
   "name": "python3"
  },
  "language_info": {
   "codemirror_mode": {
    "name": "ipython",
    "version": 3
   },
   "file_extension": ".py",
   "mimetype": "text/x-python",
   "name": "python",
   "nbconvert_exporter": "python",
   "pygments_lexer": "ipython3",
   "version": "3.10.8"
  }
 },
 "nbformat": 4,
 "nbformat_minor": 2
}
